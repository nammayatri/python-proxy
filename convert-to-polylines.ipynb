{
 "cells": [
  {
   "cell_type": "code",
   "execution_count": 33,
   "metadata": {},
   "outputs": [
    {
     "name": "stdout",
     "output_type": "stream",
     "text": [
      "Successfully parsed 18185 JSON objects from the file.\n"
     ]
    }
   ],
   "source": [
    "import json\n",
    "\n",
    "# Initialize an empty array to store the parsed JSON objects\n",
    "parsed_data = []\n",
    "routes_done = []\n",
    "\n",
    "with open('routes_done', 'r') as f:\n",
    "    for line in f:\n",
    "        routes_done.append(line.strip()) \n",
    "\n",
    "# Open and read the file line by line\n",
    "try:\n",
    "    with open('even_less_finer_10_to_25', 'r') as file:\n",
    "        for line in file:\n",
    "            try:\n",
    "                # Parse each line as a JSON object and append to the array\n",
    "                json_obj = json.loads(line.strip())\n",
    "                parsed_data.append(json_obj)\n",
    "            except json.JSONDecodeError as e:\n",
    "                print(f\"Error parsing JSON in line: {e}\")\n",
    "                continue\n",
    "    \n",
    "    print(f\"Successfully parsed {len(parsed_data)} JSON objects from the file.\")\n",
    "except FileNotFoundError:\n",
    "    print(\"File 'even_less_finer_10_to_25' not found.\")\n",
    "except Exception as e:\n",
    "    print(f\"An error occurred while reading the file: {e}\")\n"
   ]
  },
  {
   "cell_type": "code",
   "execution_count": 34,
   "metadata": {},
   "outputs": [],
   "source": [
    "# get the best matching polylines data for each route\n",
    "from geopy.distance import geodesic\n",
    "routesPolylines={}\n",
    "closestToStart = {}\n",
    "for json_data in parsed_data:\n",
    "    for deviceId in json_data:\n",
    "        deviceData = json_data[deviceId]\n",
    "        for routeId in deviceData:\n",
    "            if routeId in routes_done:\n",
    "                continue\n",
    "            routeData = deviceData[routeId]\n",
    "            routeFirstStop = routeData.get('stops', [])[0]\n",
    "            routeLastStop = routeData.get('stops', [])[-1]\n",
    "            trailFirstPoint = routeData.get('trail_segment', [])[0]\n",
    "            oldList = routeData.get('trail_segment', [])\n",
    "            routeData['trail_segment'] = [routeFirstStop] + oldList + [routeLastStop]\n",
    "            distanceFromRouteStart = geodesic((trailFirstPoint['lat'], trailFirstPoint['long']), (routeFirstStop['lat'], routeFirstStop['long'])).meters\n",
    "            if routeId in routesPolylines:\n",
    "                olderValue = routesPolylines[routeId]\n",
    "                if routeData['match_percentage'] == olderValue['match_percentage'] and distanceFromRouteStart < closestToStart[routeId]:\n",
    "                # if True:\n",
    "                    # routesPolylines[routeId].append(routeData)\n",
    "                    routesPolylines[routeId] = routeData\n",
    "                    closestToStart[routeId] = distanceFromRouteStart\n",
    "            else:\n",
    "                # routesPolylines[routeId] = [routeData]\n",
    "                routesPolylines[routeId] = routeData\n",
    "                closestToStart[routeId] = distanceFromRouteStart\n"
   ]
  },
  {
   "cell_type": "code",
   "execution_count": 35,
   "metadata": {},
   "outputs": [],
   "source": [
    "with open(\"route_pollines_even_less_fine.json\", \"w\") as f:\n",
    "    f.write(json.dumps(routesPolylines, indent=2))\n",
    "    "
   ]
  },
  {
   "cell_type": "code",
   "execution_count": 36,
   "metadata": {},
   "outputs": [
    {
     "name": "stdout",
     "output_type": "stream",
     "text": [
      "Generated polylines for 40 routes\n",
      "Encoded polylines saved to route_encoded_polylines.json\n"
     ]
    }
   ],
   "source": [
    "# Generate Google polylines for each route's trail segment\n",
    "import polyline\n",
    "\n",
    "# Create a hashmap to store the encoded polylines for each route\n",
    "route_encoded_polylines = {}\n",
    "\n",
    "for route_id, route_data in routesPolylines.items():\n",
    "    # Extract trail segment coordinates\n",
    "    trail_segment = route_data.get('trail_segment', [])\n",
    "    \n",
    "    # Format coordinates for polyline encoding (lat, lng format)\n",
    "    coordinates = []\n",
    "    for point in trail_segment:\n",
    "        if 'lat' in point and 'long' in point:\n",
    "            coordinates.append((point['lat'], point['long']))\n",
    "    \n",
    "    # Encode the coordinates as a Google polyline\n",
    "    if coordinates:\n",
    "        encoded_polyline = polyline.encode(coordinates)\n",
    "        route_encoded_polylines[route_id] = encoded_polyline\n",
    "    else:\n",
    "        print(\"failed\")\n",
    "\n",
    "print(f\"Generated polylines for {len(route_encoded_polylines)} routes\")\n",
    "\n",
    "# Save the encoded polylines to a file\n",
    "with open(\"route_encoded_polylines.json\", \"w\") as f:\n",
    "    f.write(json.dumps(route_encoded_polylines, indent=2))\n",
    "\n",
    "print(\"Encoded polylines saved to route_encoded_polylines.json\")\n"
   ]
  },
  {
   "cell_type": "code",
   "execution_count": 37,
   "metadata": {},
   "outputs": [
    {
     "name": "stdout",
     "output_type": "stream",
     "text": [
      "Generated 40 SQL update queries\n",
      "SQL queries saved to route_polyline_updates.sql\n"
     ]
    }
   ],
   "source": [
    "# Generate SQL update queries for atlas_app.route table\n",
    "sql_queries = []\n",
    "\n",
    "for route_id, encoded_polyline in route_encoded_polylines.items():\n",
    "    # Create SQL update query\n",
    "    sql_query = f\"UPDATE atlas_app.route SET polyline = '{encoded_polyline}' WHERE code = '{route_id}' and polyline = '';\"\n",
    "    sql_queries.append(sql_query)\n",
    "\n",
    "# Save the SQL queries to a file\n",
    "with open(\"route_polyline_updates.sql\", \"w\") as f:\n",
    "    for query in sql_queries:\n",
    "        f.write(query + \"\\n\")\n",
    "\n",
    "\n",
    "print(f\"Generated {len(sql_queries)} SQL update queries\")\n",
    "print(\"SQL queries saved to route_polyline_updates.sql\")\n"
   ]
  },
  {
   "cell_type": "code",
   "execution_count": null,
   "metadata": {},
   "outputs": [],
   "source": []
  }
 ],
 "metadata": {
  "kernelspec": {
   "display_name": "venv",
   "language": "python",
   "name": "python3"
  },
  "language_info": {
   "codemirror_mode": {
    "name": "ipython",
    "version": 3
   },
   "file_extension": ".py",
   "mimetype": "text/x-python",
   "name": "python",
   "nbconvert_exporter": "python",
   "pygments_lexer": "ipython3",
   "version": "3.11.11"
  }
 },
 "nbformat": 4,
 "nbformat_minor": 2
}
